{
  "nbformat": 4,
  "nbformat_minor": 0,
  "metadata": {
    "colab": {
      "name": "svi.ipynb",
      "provenance": [],
      "collapsed_sections": [],
      "authorship_tag": "ABX9TyNfCuXK85uWhcbQDqH7BrU/",
      "include_colab_link": true
    },
    "kernelspec": {
      "name": "python3",
      "display_name": "Python 3"
    }
  },
  "cells": [
    {
      "cell_type": "markdown",
      "metadata": {
        "id": "view-in-github",
        "colab_type": "text"
      },
      "source": [
        "<a href=\"https://colab.research.google.com/github/a-mitani/pyro_code_examples/blob/main/svi-basic.ipynb\" target=\"_parent\"><img src=\"https://colab.research.google.com/assets/colab-badge.svg\" alt=\"Open In Colab\"/></a>"
      ]
    },
    {
      "cell_type": "code",
      "metadata": {
        "id": "7MRdBoJ40w9l",
        "outputId": "6ba71b15-ba22-4e2c-dce2-0eaa63badc0f",
        "colab": {
          "base_uri": "https://localhost:8080/"
        }
      },
      "source": [
        "#Pyroのインストール\n",
        "!pip install pyro-ppl -q"
      ],
      "execution_count": 1,
      "outputs": [
        {
          "output_type": "stream",
          "text": [
            "\u001b[?25l\r\u001b[K     |▌                               | 10kB 16.7MB/s eta 0:00:01\r\u001b[K     |█                               | 20kB 15.4MB/s eta 0:00:01\r\u001b[K     |█▌                              | 30kB 9.4MB/s eta 0:00:01\r\u001b[K     |██                              | 40kB 8.2MB/s eta 0:00:01\r\u001b[K     |██▋                             | 51kB 4.4MB/s eta 0:00:01\r\u001b[K     |███                             | 61kB 5.0MB/s eta 0:00:01\r\u001b[K     |███▋                            | 71kB 5.1MB/s eta 0:00:01\r\u001b[K     |████▏                           | 81kB 5.4MB/s eta 0:00:01\r\u001b[K     |████▋                           | 92kB 5.8MB/s eta 0:00:01\r\u001b[K     |█████▏                          | 102kB 5.7MB/s eta 0:00:01\r\u001b[K     |█████▊                          | 112kB 5.7MB/s eta 0:00:01\r\u001b[K     |██████▏                         | 122kB 5.7MB/s eta 0:00:01\r\u001b[K     |██████▊                         | 133kB 5.7MB/s eta 0:00:01\r\u001b[K     |███████▎                        | 143kB 5.7MB/s eta 0:00:01\r\u001b[K     |███████▊                        | 153kB 5.7MB/s eta 0:00:01\r\u001b[K     |████████▎                       | 163kB 5.7MB/s eta 0:00:01\r\u001b[K     |████████▉                       | 174kB 5.7MB/s eta 0:00:01\r\u001b[K     |█████████▎                      | 184kB 5.7MB/s eta 0:00:01\r\u001b[K     |█████████▉                      | 194kB 5.7MB/s eta 0:00:01\r\u001b[K     |██████████▎                     | 204kB 5.7MB/s eta 0:00:01\r\u001b[K     |██████████▉                     | 215kB 5.7MB/s eta 0:00:01\r\u001b[K     |███████████▍                    | 225kB 5.7MB/s eta 0:00:01\r\u001b[K     |███████████▉                    | 235kB 5.7MB/s eta 0:00:01\r\u001b[K     |████████████▍                   | 245kB 5.7MB/s eta 0:00:01\r\u001b[K     |█████████████                   | 256kB 5.7MB/s eta 0:00:01\r\u001b[K     |█████████████▍                  | 266kB 5.7MB/s eta 0:00:01\r\u001b[K     |██████████████                  | 276kB 5.7MB/s eta 0:00:01\r\u001b[K     |██████████████▌                 | 286kB 5.7MB/s eta 0:00:01\r\u001b[K     |███████████████                 | 296kB 5.7MB/s eta 0:00:01\r\u001b[K     |███████████████▌                | 307kB 5.7MB/s eta 0:00:01\r\u001b[K     |████████████████                | 317kB 5.7MB/s eta 0:00:01\r\u001b[K     |████████████████▌               | 327kB 5.7MB/s eta 0:00:01\r\u001b[K     |█████████████████               | 337kB 5.7MB/s eta 0:00:01\r\u001b[K     |█████████████████▋              | 348kB 5.7MB/s eta 0:00:01\r\u001b[K     |██████████████████              | 358kB 5.7MB/s eta 0:00:01\r\u001b[K     |██████████████████▋             | 368kB 5.7MB/s eta 0:00:01\r\u001b[K     |███████████████████             | 378kB 5.7MB/s eta 0:00:01\r\u001b[K     |███████████████████▋            | 389kB 5.7MB/s eta 0:00:01\r\u001b[K     |████████████████████▏           | 399kB 5.7MB/s eta 0:00:01\r\u001b[K     |████████████████████▋           | 409kB 5.7MB/s eta 0:00:01\r\u001b[K     |█████████████████████▏          | 419kB 5.7MB/s eta 0:00:01\r\u001b[K     |█████████████████████▊          | 430kB 5.7MB/s eta 0:00:01\r\u001b[K     |██████████████████████▏         | 440kB 5.7MB/s eta 0:00:01\r\u001b[K     |██████████████████████▊         | 450kB 5.7MB/s eta 0:00:01\r\u001b[K     |███████████████████████▎        | 460kB 5.7MB/s eta 0:00:01\r\u001b[K     |███████████████████████▊        | 471kB 5.7MB/s eta 0:00:01\r\u001b[K     |████████████████████████▎       | 481kB 5.7MB/s eta 0:00:01\r\u001b[K     |████████████████████████▉       | 491kB 5.7MB/s eta 0:00:01\r\u001b[K     |█████████████████████████▎      | 501kB 5.7MB/s eta 0:00:01\r\u001b[K     |█████████████████████████▉      | 512kB 5.7MB/s eta 0:00:01\r\u001b[K     |██████████████████████████▍     | 522kB 5.7MB/s eta 0:00:01\r\u001b[K     |██████████████████████████▉     | 532kB 5.7MB/s eta 0:00:01\r\u001b[K     |███████████████████████████▍    | 542kB 5.7MB/s eta 0:00:01\r\u001b[K     |███████████████████████████▉    | 552kB 5.7MB/s eta 0:00:01\r\u001b[K     |████████████████████████████▍   | 563kB 5.7MB/s eta 0:00:01\r\u001b[K     |█████████████████████████████   | 573kB 5.7MB/s eta 0:00:01\r\u001b[K     |█████████████████████████████▍  | 583kB 5.7MB/s eta 0:00:01\r\u001b[K     |██████████████████████████████  | 593kB 5.7MB/s eta 0:00:01\r\u001b[K     |██████████████████████████████▌ | 604kB 5.7MB/s eta 0:00:01\r\u001b[K     |███████████████████████████████ | 614kB 5.7MB/s eta 0:00:01\r\u001b[K     |███████████████████████████████▌| 624kB 5.7MB/s eta 0:00:01\r\u001b[K     |████████████████████████████████| 634kB 5.7MB/s \n",
            "\u001b[?25h"
          ],
          "name": "stdout"
        }
      ]
    },
    {
      "cell_type": "code",
      "metadata": {
        "id": "O1HjdeNp00Cv"
      },
      "source": [
        "import random\n",
        "import numpy as np\n",
        "import torch\n",
        "import torch.distributions.constraints as constraints\n",
        "import pyro\n",
        "from pyro.optim import Adam\n",
        "from pyro.infer import SVI, Trace_ELBO\n",
        "import pyro.distributions as dist\n",
        "import matplotlib.pyplot as plt"
      ],
      "execution_count": 2,
      "outputs": []
    },
    {
      "cell_type": "code",
      "metadata": {
        "id": "PsSXvodk1HTu"
      },
      "source": [
        "# 試行データ作成\n",
        "def create_data(red_num, white_num):\n",
        "    red = torch.tensor(1.0)\n",
        "    white = torch.tensor(0.0)\n",
        "    data = []\n",
        "    for _ in range(red_num):\n",
        "        data.append(red)\n",
        "    for _ in range(white_num):\n",
        "        data.append(white)\n",
        "    random.shuffle(data)\n",
        "    data = torch.tensor(data)\n",
        "    return data\n",
        "\n",
        "data = create_data(7, 3)"
      ],
      "execution_count": 3,
      "outputs": []
    },
    {
      "cell_type": "code",
      "metadata": {
        "id": "R2KfirunehXZ"
      },
      "source": [
        "# 確率モデルの定義\n",
        "def model(data):\n",
        "    # 事前確率分布は無情報、つまりball_ratioが一様分布と仮定する。\n",
        "    alpha0 = torch.tensor(1.0)\n",
        "    beta0 = torch.tensor(1.0)\n",
        "    f = pyro.sample(\"Theta\", dist.Beta(alpha0, beta0))\n",
        "\n",
        "    # 観測データのプレート定義\n",
        "    with pyro.plate('observation'):\n",
        "      pyro.sample('X', dist.Bernoulli(f), obs=data)"
      ],
      "execution_count": 4,
      "outputs": []
    },
    {
      "cell_type": "code",
      "metadata": {
        "id": "BFQPhKE1XGuu"
      },
      "source": [
        "def guide(data):\n",
        "    # register the two variational parameters with Pyro\n",
        "    # - both parameters will have initial value 15.0.\n",
        "    # - because we invoke constraints.positive, the optimizer\n",
        "    # will take gradients on the unconstrained parameters\n",
        "    # (which are related to the constrained parameters by a log)\n",
        "    alpha_q = pyro.param(\"alpha_q\", torch.tensor(10.0),\n",
        "                         constraint=constraints.positive)\n",
        "    beta_q = pyro.param(\"beta_q\", torch.tensor(10.0),\n",
        "                        constraint=constraints.positive)\n",
        "    # sample latent_fairness from the distribution Beta(alpha_q, beta_q)\n",
        "    pyro.sample(\"Theta\", dist.Beta(alpha_q, beta_q))"
      ],
      "execution_count": 5,
      "outputs": []
    },
    {
      "cell_type": "code",
      "metadata": {
        "id": "1VVWb4KDim0T",
        "colab": {
          "base_uri": "https://localhost:8080/",
          "height": 282
        },
        "outputId": "14d114a0-37d2-446b-bb01-903e61dce467"
      },
      "source": [
        "# グローバル変数として保存されているパラメータを削除\n",
        "pyro.clear_param_store()\n",
        "\n",
        "# Optimizerの定義と設定（Adamの利用が推奨されている）\n",
        "adam_params = {\"lr\": 0.001, \"betas\": (0.95, 0.999)}\n",
        "optimizer = Adam(adam_params)\n",
        "\n",
        "# 推論アルゴリズムとLoss値を定義\n",
        "# ここでは組み込みのELBOの符号反転をLoss値とする`Trace_ELBO()`を利用しています。\n",
        "svi = SVI(model, guide, optimizer, loss=Trace_ELBO())\n",
        "\n",
        "# 最適化の逐次計算\n",
        "# ここではAdamで勾配降下を5000回繰り返すことになる。\n",
        "n_steps = 5000\n",
        "losses = []\n",
        "for step in range(n_steps):\n",
        "    loss = svi.step(data)\n",
        "    losses.append(loss)\n",
        "    if step % 100 == 0:\n",
        "        print('#', end='')\n",
        "\n",
        "plt.plot(losses)"
      ],
      "execution_count": 6,
      "outputs": [
        {
          "output_type": "stream",
          "text": [
            "##################################################"
          ],
          "name": "stdout"
        },
        {
          "output_type": "execute_result",
          "data": {
            "text/plain": [
              "[<matplotlib.lines.Line2D at 0x7f383ba4c8d0>]"
            ]
          },
          "metadata": {
            "tags": []
          },
          "execution_count": 6
        },
        {
          "output_type": "display_data",
          "data": {
            "image/png": "[encoded data removed]",
            "text/plain": [
              "<Figure size 432x288 with 1 Axes>"
            ]
          },
          "metadata": {
            "tags": [],
            "needs_background": "light"
          }
        }
      ]
    },
    {
      "cell_type": "code",
      "metadata": {
        "id": "rMVdbrIDVS6e",
        "colab": {
          "base_uri": "https://localhost:8080/"
        },
        "outputId": "f6b34d1d-b51f-4154-945c-9ce688bab889"
      },
      "source": [
        "# 最適化後の変分パラメータを取得する\n",
        "alpha_q = pyro.param(\"alpha_q\").item()\n",
        "beta_q = pyro.param(\"beta_q\").item()\n",
        "print(\"alpha_q = {:.2f}, beta_q = {:.2f}\".format(alpha_q, beta_q))"
      ],
      "execution_count": 7,
      "outputs": [
        {
          "output_type": "stream",
          "text": [
            "alpha_q = 10.43, beta_q = 5.27\n"
          ],
          "name": "stdout"
        }
      ]
    },
    {
      "cell_type": "code",
      "metadata": {
        "id": "hN4iIK_CZU21",
        "colab": {
          "base_uri": "https://localhost:8080/",
          "height": 286
        },
        "outputId": "8bd94f63-2fce-4cd9-e4e4-075c8bd3492d"
      },
      "source": [
        "# 得られたパラメータを用いて事後確率分布をプロット\n",
        "x_range = np.arange(0.0, 1.0, 0.01)\n",
        "estimated_dist = dist.Beta(alpha_q, beta_q)\n",
        "y = [estimated_dist.log_prob(torch.tensor([x])).exp() for x in x_range]\n",
        "plt.plot(x_range, y)"
      ],
      "execution_count": 8,
      "outputs": [
        {
          "output_type": "execute_result",
          "data": {
            "text/plain": [
              "[<matplotlib.lines.Line2D at 0x7f383ba07890>]"
            ]
          },
          "metadata": {
            "tags": []
          },
          "execution_count": 8
        },
        {
          "output_type": "display_data",
          "data": {
            "image/png": "[encoded data removed]",
            "text/plain": [
              "<Figure size 432x288 with 1 Axes>"
            ]
          },
          "metadata": {
            "tags": [],
            "needs_background": "light"
          }
        }
      ]
    },
    {
      "cell_type": "code",
      "metadata": {
        "id": "Zckbwue6BRAK"
      },
      "source": [
        ""
      ],
      "execution_count": 8,
      "outputs": []
    }
  ]
}