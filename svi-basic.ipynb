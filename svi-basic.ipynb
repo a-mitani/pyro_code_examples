{
  "nbformat": 4,
  "nbformat_minor": 0,
  "metadata": {
    "colab": {
      "name": "svi.ipynb",
      "provenance": [],
      "collapsed_sections": [],
      "authorship_tag": "ABX9TyP4pLZJaSnPzyavACAGWsD7",
      "include_colab_link": true
    },
    "kernelspec": {
      "name": "python3",
      "display_name": "Python 3"
    }
  },
  "cells": [
    {
      "cell_type": "markdown",
      "metadata": {
        "id": "view-in-github",
        "colab_type": "text"
      },
      "source": [
        "<a href=\"https://colab.research.google.com/github/a-mitani/pyro_code_examples/blob/main/svi-basic.ipynb\" target=\"_parent\"><img src=\"https://colab.research.google.com/assets/colab-badge.svg\" alt=\"Open In Colab\"/></a>"
      ]
    },
    {
      "cell_type": "code",
      "metadata": {
        "id": "7MRdBoJ40w9l"
      },
      "source": [
        "#Pyroのインストール\n",
        "!pip install pyro-ppl -q"
      ],
      "execution_count": 1,
      "outputs": []
    },
    {
      "cell_type": "code",
      "metadata": {
        "id": "O1HjdeNp00Cv"
      },
      "source": [
        "import math\n",
        "import os\n",
        "import random\n",
        "import numpy as np\n",
        "import torch\n",
        "import torch.distributions.constraints as constraints\n",
        "import pyro\n",
        "from pyro.optim import Adam\n",
        "from pyro.infer import SVI, Trace_ELBO\n",
        "import pyro.distributions as dist\n",
        "import matplotlib.pyplot as plt\n"
      ],
      "execution_count": 2,
      "outputs": []
    },
    {
      "cell_type": "code",
      "metadata": {
        "id": "PsSXvodk1HTu"
      },
      "source": [
        "# 試行データ作成\n",
        "def create_data(red_num, white_num):\n",
        "    red = torch.tensor(1.0)\n",
        "    white = torch.tensor(0.0)\n",
        "    data = []\n",
        "    for _ in range(red_num):\n",
        "        data.append(red)\n",
        "    for _ in range(white_num):\n",
        "        data.append(white)\n",
        "    random.shuffle(data)\n",
        "    data = torch.tensor(data)\n",
        "    return data\n",
        "\n",
        "data = create_data(7, 3)"
      ],
      "execution_count": 3,
      "outputs": []
    },
    {
      "cell_type": "code",
      "metadata": {
        "id": "R2KfirunehXZ"
      },
      "source": [
        "# 確率モデルの定義\n",
        "def model(data):\n",
        "    # 事前確率分布は無情報、つまりball_ratioが一様分布と仮定する。\n",
        "    alpha0 = torch.tensor(1.0)\n",
        "    beta0 = torch.tensor(1.0)\n",
        "    f = pyro.sample(\"Theta\", dist.Beta(alpha0, beta0))\n",
        "\n",
        "    # 観測データのプレート定義\n",
        "    with pyro.plate('observation'):\n",
        "      pyro.sample('X', dist.Bernoulli(f), obs=data)"
      ],
      "execution_count": 4,
      "outputs": []
    },
    {
      "cell_type": "code",
      "metadata": {
        "id": "BFQPhKE1XGuu"
      },
      "source": [
        "def guide(data):\n",
        "    # register the two variational parameters with Pyro\n",
        "    # - both parameters will have initial value 15.0.\n",
        "    # - because we invoke constraints.positive, the optimizer\n",
        "    # will take gradients on the unconstrained parameters\n",
        "    # (which are related to the constrained parameters by a log)\n",
        "    alpha_q = pyro.param(\"alpha_q\", torch.tensor(10.0),\n",
        "                         constraint=constraints.positive)\n",
        "    beta_q = pyro.param(\"beta_q\", torch.tensor(10.0),\n",
        "                        constraint=constraints.positive)\n",
        "    # sample latent_fairness from the distribution Beta(alpha_q, beta_q)\n",
        "    pyro.sample(\"Theta\", dist.Beta(alpha_q, beta_q))"
      ],
      "execution_count": 5,
      "outputs": []
    },
    {
      "cell_type": "code",
      "metadata": {
        "id": "1VVWb4KDim0T",
        "colab": {
          "base_uri": "https://localhost:8080/",
          "height": 284
        },
        "outputId": "6fa49815-d2bc-43d2-dddb-5fdf3c49a565"
      },
      "source": [
        "# グローバル変数として保存されているパラメータを削除\n",
        "pyro.clear_param_store()\n",
        "\n",
        "# Optimizerの定義と設定（Adamの利用が推奨されている）\n",
        "adam_params = {\"lr\": 0.005, \"betas\": (0.95, 0.999)}\n",
        "optimizer = Adam(adam_params)\n",
        "\n",
        "# 推論アルゴリズムとLoss値を定義\n",
        "# ここでは組み込みのELBOの符号反転をLoss値とする`Trace_ELBO()`を利用しています。\n",
        "svi = SVI(model, guide, optimizer, loss=Trace_ELBO())\n",
        "\n",
        "# 最適化の逐次計算\n",
        "# ここではAdamで勾配降下を5000回繰り返すことになる。\n",
        "n_steps = 5000\n",
        "losses = []\n",
        "for step in range(n_steps):\n",
        "    loss = svi.step(data)\n",
        "    losses.append(loss)\n",
        "    if step % 100 == 0:\n",
        "        print('#', end='')\n",
        "\n",
        "plt.plot(losses)"
      ],
      "execution_count": 6,
      "outputs": [
        {
          "output_type": "stream",
          "text": [
            "##################################################"
          ],
          "name": "stdout"
        },
        {
          "output_type": "execute_result",
          "data": {
            "text/plain": [
              "[<matplotlib.lines.Line2D at 0x7f1fc0f50b50>]"
            ]
          },
          "metadata": {
            "tags": []
          },
          "execution_count": 6
        },
        {
          "output_type": "display_data",
          "data": {
            "image/png": "[encoded data removed]",
            "text/plain": [
              "<Figure size 432x288 with 1 Axes>"
            ]
          },
          "metadata": {
            "tags": [],
            "needs_background": "light"
          }
        }
      ]
    },
    {
      "cell_type": "code",
      "metadata": {
        "id": "rMVdbrIDVS6e",
        "colab": {
          "base_uri": "https://localhost:8080/"
        },
        "outputId": "e938f924-f345-451f-a8b3-f89488b50da5"
      },
      "source": [
        "# 最適化後の変分パラメータを取得する\n",
        "alpha_q = pyro.param(\"alpha_q\").item()\n",
        "beta_q = pyro.param(\"beta_q\").item()\n",
        "print(\"alpha_q = {:.2f}, beta_q = {:.2f}\".format(alpha_q, beta_q))"
      ],
      "execution_count": 7,
      "outputs": [
        {
          "output_type": "stream",
          "text": [
            "alpha_q = 8.09, beta_q = 4.07\n"
          ],
          "name": "stdout"
        }
      ]
    },
    {
      "cell_type": "code",
      "metadata": {
        "id": "hN4iIK_CZU21",
        "colab": {
          "base_uri": "https://localhost:8080/",
          "height": 282
        },
        "outputId": "cde7bd01-589b-42c4-dd24-4ffafae0700d"
      },
      "source": [
        "# 得られたパラメータを用いて事後確率分布をプロット\n",
        "x_range = np.arange(0.0, 1.0, 0.01)\n",
        "estimated_dist = dist.Beta(alpha_q, beta_q)\n",
        "y = [estimated_dist.log_prob(torch.tensor([x])).exp() for x in x_range]\n",
        "plt.plot(x_range, y)"
      ],
      "execution_count": 8,
      "outputs": [
        {
          "output_type": "execute_result",
          "data": {
            "text/plain": [
              "[<matplotlib.lines.Line2D at 0x7f1fc0a38a50>]"
            ]
          },
          "metadata": {
            "tags": []
          },
          "execution_count": 8
        },
        {
          "output_type": "display_data",
          "data": {
            "image/png": "[encoded data removed]",
            "text/plain": [
              "<Figure size 432x288 with 1 Axes>"
            ]
          },
          "metadata": {
            "tags": [],
            "needs_background": "light"
          }
        }
      ]
    },
    {
      "cell_type": "code",
      "metadata": {
        "id": "Zckbwue6BRAK"
      },
      "source": [
        ""
      ],
      "execution_count": 8,
      "outputs": []
    }
  ]
}